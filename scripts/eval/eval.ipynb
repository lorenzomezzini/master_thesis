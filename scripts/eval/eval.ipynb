{
 "cells": [
  {
   "cell_type": "code",
   "execution_count": 1,
   "metadata": {},
   "outputs": [
    {
     "name": "stdout",
     "output_type": "stream",
     "text": [
      "WARNING:tensorflow:From /home/lorenzo/.local/lib/python3.8/site-packages/tensorflow/python/compat/v2_compat.py:96: disable_resource_variables (from tensorflow.python.ops.variable_scope) is deprecated and will be removed in a future version.\n",
      "Instructions for updating:\n",
      "non-resource variables are not supported in the long term\n"
     ]
    }
   ],
   "source": [
    "import matplotlib.pyplot as plt\n",
    "import ray\n",
    "from ray.rllib.agents import ppo\n",
    "from ray.rllib.models import ModelCatalog\n",
    "from tqdm import tqdm\n",
    "\n",
    "import sys\n",
    "sys.path.insert(1, '/home/lorenzo/Desktop/master_thesis/scripts')\n",
    "\n",
    "from aie import plotting\n",
    "from aie.aie_env import AIEEnv\n",
    "from rl.conf import BASE_PPO_CONF\n",
    "from aie.env_conf import ENV_US, ENV_ITALY, ENV_COMMUNISM\n",
    "from rl.models.tf.fcnet import FCNet\n",
    "import pandas as pd"
   ]
  },
  {
   "cell_type": "code",
   "execution_count": 2,
   "metadata": {},
   "outputs": [
    {
     "name": "stderr",
     "output_type": "stream",
     "text": [
      "2021-11-12 16:20:09,851\tINFO services.py:1172 -- View the Ray dashboard at \u001b[1m\u001b[32mhttp://127.0.0.1:8265\u001b[39m\u001b[22m\n"
     ]
    }
   ],
   "source": [
    "ray.init()\n",
    "ModelCatalog.register_custom_model(\"my_model\", FCNet)"
   ]
  },
  {
   "cell_type": "code",
   "execution_count": 3,
   "metadata": {},
   "outputs": [
    {
     "name": "stderr",
     "output_type": "stream",
     "text": [
      "2021-11-12 16:20:11,340\tINFO trainer.py:616 -- Tip: set framework=tfe or the --eager flag to enable TensorFlow eager execution\n",
      "2021-11-12 16:20:11,342\tINFO trainer.py:641 -- Current log_level is WARN. For more information, set 'log_level': 'INFO' / 'DEBUG' or use the -v and -vv flags.\n",
      "2021-11-12 16:20:13,110\tWARNING deprecation.py:33 -- DeprecationWarning: `framestack` has been deprecated. Use `num_framestacks (int)` instead. This will raise an error in the future!\n",
      "2021-11-12 16:20:13,422\tWARNING deprecation.py:33 -- DeprecationWarning: `TFModelV2.register_variables` has been deprecated. This will raise an error in the future!\n",
      "2021-11-12 16:20:19,040\tINFO trainable.py:371 -- Restored on 10.201.19.85 from checkpoint: /home/lorenzo/Desktop/master_thesis/ray_results/FREE/checkpoint_17970/checkpoint-17970\n",
      "2021-11-12 16:20:19,041\tINFO trainable.py:379 -- Current state after restoring: {'_iteration': 17970, '_timesteps_total': None, '_time_total': 978451.3357105255, '_episodes_total': 215580}\n",
      "100%|██████████| 100/100 [17:48<00:00, 10.69s/it]\n"
     ]
    },
    {
     "data": {
      "image/png": "[encoded data removed]",
      "text/plain": [
       "<Figure size 432x288 with 2 Axes>"
      ]
     },
     "metadata": {
      "needs_background": "light"
     },
     "output_type": "display_data"
    }
   ],
   "source": [
    "trainer = ppo.PPOTrainer(config={\n",
    "    **BASE_PPO_CONF,\n",
    "    \"num_workers\": 0,\n",
    "})\n",
    "\n",
    "ckpt_path = '/home/lorenzo/Desktop/master_thesis/ray_results/FREE/checkpoint_17970/checkpoint-17970'\n",
    "trainer.restore(str(ckpt_path))\n",
    "env = AIEEnv({}, force_dense_logging=True)\n",
    "\n",
    "df = pd.DataFrame()\n",
    "\n",
    "for i in tqdm(range(1000)):\n",
    "    obs = env.reset()\n",
    "    for t in range(1000):\n",
    "        results = {\n",
    "            k: trainer.compute_action(\n",
    "                v,\n",
    "                policy_id='learned',\n",
    "                explore=False,\n",
    "            )\n",
    "            for k, v in obs.items()\n",
    "        }\n",
    "        obs, reward, done, info = env.step(results)\n",
    "    df = df.append(env.env.scenario_metrics(),ignore_index=True)\n",
    "\n",
    "df.hist(column=['social/equality','social/productivity'])\n",
    "df.to_csv('data_out/Free.csv', mode='a', header=False)"
   ]
  },
  {
   "cell_type": "code",
   "execution_count": 4,
   "metadata": {},
   "outputs": [
    {
     "name": "stderr",
     "output_type": "stream",
     "text": [
      "2021-11-12 16:38:11,039\tWARNING deprecation.py:33 -- DeprecationWarning: `framestack` has been deprecated. Use `num_framestacks (int)` instead. This will raise an error in the future!\n",
      "2021-11-12 16:38:14,591\tINFO trainable.py:371 -- Restored on 10.201.19.85 from checkpoint: /home/lorenzo/Desktop/master_thesis/ray_results/US/checkpoint_20020/checkpoint-20020\n",
      "2021-11-12 16:38:14,593\tINFO trainable.py:379 -- Current state after restoring: {'_iteration': 20020, '_timesteps_total': None, '_time_total': 656971.363036871, '_episodes_total': 240180}\n",
      "100%|██████████| 100/100 [12:58<00:00,  7.79s/it]\n"
     ]
    },
    {
     "data": {
      "image/png": "[encoded data removed]",
      "text/plain": [
       "<Figure size 432x288 with 2 Axes>"
      ]
     },
     "metadata": {
      "needs_background": "light"
     },
     "output_type": "display_data"
    }
   ],
   "source": [
    "trainer = ppo.PPOTrainer(config={\n",
    "    **BASE_PPO_CONF,\n",
    "    \"num_workers\": 0,\n",
    "})\n",
    "\n",
    "ckpt_path = '/home/lorenzo/Desktop/master_thesis/ray_results/US/checkpoint_20020/checkpoint-20020'\n",
    "trainer.restore(str(ckpt_path))\n",
    "env = AIEEnv(ENV_US, force_dense_logging=True)\n",
    "\n",
    "dfUs = pd.DataFrame()\n",
    "for i in tqdm(range(1000)):\n",
    "    obs = env.reset()\n",
    "    for t in range(1000):\n",
    "        results = {\n",
    "            k: trainer.compute_action(\n",
    "                v,\n",
    "                policy_id='learned',\n",
    "                explore=False,\n",
    "            )\n",
    "            for k, v in obs.items()\n",
    "        }\n",
    "        obs, reward, done, info = env.step(results)\n",
    "    dfUs = dfUs.append(env.env.scenario_metrics(),ignore_index=True)\n",
    "    \n",
    "dfUs.hist(column=['social/equality','social/productivity'])\n",
    "dfUs.to_csv('data_out/US.csv', mode='a', header=False)"
   ]
  },
  {
   "cell_type": "code",
   "execution_count": 5,
   "metadata": {},
   "outputs": [
    {
     "name": "stderr",
     "output_type": "stream",
     "text": [
      "2021-11-12 16:51:16,151\tWARNING deprecation.py:33 -- DeprecationWarning: `framestack` has been deprecated. Use `num_framestacks (int)` instead. This will raise an error in the future!\n",
      "2021-11-12 16:51:19,634\tINFO trainable.py:371 -- Restored on 10.201.19.85 from checkpoint: /home/lorenzo/Desktop/master_thesis/ray_results/ITA/checkpoint_15680/checkpoint-15680\n",
      "2021-11-12 16:51:19,635\tINFO trainable.py:379 -- Current state after restoring: {'_iteration': 15680, '_timesteps_total': None, '_time_total': 1109664.626226902, '_episodes_total': 188160}\n",
      "100%|██████████| 100/100 [13:33<00:00,  8.13s/it]\n"
     ]
    },
    {
     "data": {
      "image/png": "[encoded data removed]",
      "text/plain": [
       "<Figure size 432x288 with 2 Axes>"
      ]
     },
     "metadata": {
      "needs_background": "light"
     },
     "output_type": "display_data"
    }
   ],
   "source": [
    "trainer = ppo.PPOTrainer(config={\n",
    "    **BASE_PPO_CONF,\n",
    "    \"num_workers\": 0,\n",
    "})\n",
    "\n",
    "ckpt_path = '/home/lorenzo/Desktop/master_thesis/ray_results/ITA/checkpoint_15680/checkpoint-15680'\n",
    "trainer.restore(str(ckpt_path))\n",
    "env = AIEEnv(ENV_ITALY, force_dense_logging=True)\n",
    "\n",
    "dfIta = pd.DataFrame()\n",
    "for i in tqdm(range(1000)):\n",
    "    obs = env.reset()\n",
    "    for t in range(1000):\n",
    "        results = {\n",
    "            k: trainer.compute_action(\n",
    "                v,\n",
    "                policy_id='learned',\n",
    "                explore=False,\n",
    "            )\n",
    "            for k, v in obs.items()\n",
    "        }\n",
    "        obs, reward, done, info = env.step(results)\n",
    "    dfIta = dfIta.append(env.env.scenario_metrics(),ignore_index=True)\n",
    "    \n",
    "dfIta.hist(column=['social/equality','social/productivity'])\n",
    "dfIta.to_csv('data_out/Ita.csv', mode='a', header=False)"
   ]
  },
  {
   "cell_type": "code",
   "execution_count": 6,
   "metadata": {},
   "outputs": [
    {
     "name": "stderr",
     "output_type": "stream",
     "text": [
      "2021-11-12 17:04:55,801\tWARNING deprecation.py:33 -- DeprecationWarning: `framestack` has been deprecated. Use `num_framestacks (int)` instead. This will raise an error in the future!\n",
      "2021-11-12 17:04:59,891\tINFO trainable.py:371 -- Restored on 10.201.19.85 from checkpoint: /home/lorenzo/ray_results/Comm_P3/checkpoint_13000/checkpoint-13000\n",
      "2021-11-12 17:04:59,893\tINFO trainable.py:379 -- Current state after restoring: {'_iteration': 13000, '_timesteps_total': None, '_time_total': 294028.08872771263, '_episodes_total': 155940}\n",
      "100%|██████████| 100/100 [13:14<00:00,  7.95s/it]\n"
     ]
    },
    {
     "data": {
      "image/png": "[encoded data removed]",
      "text/plain": [
       "<Figure size 432x288 with 2 Axes>"
      ]
     },
     "metadata": {
      "needs_background": "light"
     },
     "output_type": "display_data"
    }
   ],
   "source": [
    "trainer = ppo.PPOTrainer(config={\n",
    "    **BASE_PPO_CONF,\n",
    "    \"num_workers\": 0,\n",
    "})\n",
    "\n",
    "ckpt_path = '/home/lorenzo/ray_results/Comm_P3/checkpoint_13000/checkpoint-13000'\n",
    "trainer.restore(str(ckpt_path))\n",
    "env = AIEEnv(ENV_COMMUNISM, force_dense_logging=True)\n",
    "\n",
    "dfComm = pd.DataFrame()\n",
    "for i in tqdm(range(1000)):\n",
    "    obs = env.reset()\n",
    "    for t in range(1000):\n",
    "        results = {\n",
    "            k: trainer.compute_action(\n",
    "                v,\n",
    "                policy_id='learned',\n",
    "                explore=False,\n",
    "            )\n",
    "            for k, v in obs.items()\n",
    "        }\n",
    "        obs, reward, done, info = env.step(results)\n",
    "    dfComm = dfComm.append(env.env.scenario_metrics(),ignore_index=True)\n",
    "    \n",
    "dfComm.hist(column=['social/equality','social/productivity'])\n",
    "dfComm.to_csv('data_out/Comm.csv', mode='a', header=False)"
   ]
  }
 ],
 "metadata": {
  "interpreter": {
   "hash": "916dbcbb3f70747c44a77c7bcd40155683ae19c65e1c03b4aa3499c5328201f1"
  },
  "kernelspec": {
   "display_name": "Python 3.8.10 64-bit",
   "language": "python",
   "name": "python3"
  },
  "language_info": {
   "codemirror_mode": {
    "name": "ipython",
    "version": 3
   },
   "file_extension": ".py",
   "mimetype": "text/x-python",
   "name": "python",
   "nbconvert_exporter": "python",
   "pygments_lexer": "ipython3",
   "version": "3.8.10"
  },
  "orig_nbformat": 4
 },
 "nbformat": 4,
 "nbformat_minor": 2
}
