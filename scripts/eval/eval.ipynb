{
 "cells": [
  {
   "cell_type": "code",
   "execution_count": 14,
   "metadata": {},
   "outputs": [],
   "source": [
    "import matplotlib.pyplot as plt\n",
    "import ray\n",
    "from ray.rllib.agents import ppo\n",
    "from ray.rllib.models import ModelCatalog\n",
    "from tqdm import tqdm\n",
    "\n",
    "import sys\n",
    "sys.path.insert(1, '/home/lorenzo/Desktop/master_thesis/scripts')\n",
    "\n",
    "from aie import plotting\n",
    "from aie.aie_env import AIEEnv\n",
    "from rl.conf import BASE_PPO_CONF\n",
    "from aie.env_conf import ENV_US, ENV_ITALY, ENV_COMMUNISM\n",
    "from rl.models.tf.fcnet import FCNet\n",
    "import pandas as pd"
   ]
  },
  {
   "cell_type": "code",
   "execution_count": 2,
   "metadata": {},
   "outputs": [
    {
     "name": "stderr",
     "output_type": "stream",
     "text": [
      "2021-11-11 16:51:36,018\tINFO services.py:1172 -- View the Ray dashboard at \u001b[1m\u001b[32mhttp://127.0.0.1:8265\u001b[39m\u001b[22m\n"
     ]
    }
   ],
   "source": [
    "ray.init()\n",
    "ModelCatalog.register_custom_model(\"my_model\", FCNet)"
   ]
  },
  {
   "cell_type": "code",
   "execution_count": 3,
   "metadata": {},
   "outputs": [
    {
     "name": "stderr",
     "output_type": "stream",
     "text": [
      "2021-11-11 16:51:36,917\tINFO trainer.py:616 -- Tip: set framework=tfe or the --eager flag to enable TensorFlow eager execution\n",
      "2021-11-11 16:51:36,918\tINFO trainer.py:641 -- Current log_level is WARN. For more information, set 'log_level': 'INFO' / 'DEBUG' or use the -v and -vv flags.\n",
      "2021-11-11 16:51:38,716\tWARNING deprecation.py:33 -- DeprecationWarning: `framestack` has been deprecated. Use `num_framestacks (int)` instead. This will raise an error in the future!\n",
      "2021-11-11 16:51:38,893\tWARNING deprecation.py:33 -- DeprecationWarning: `TFModelV2.register_variables` has been deprecated. This will raise an error in the future!\n",
      "2021-11-11 16:51:42,284\tINFO trainable.py:371 -- Restored on 10.201.20.41 from checkpoint: /home/lorenzo/Desktop/master_thesis/ray_results/FREE/checkpoint_12200/checkpoint-12200\n",
      "2021-11-11 16:51:42,285\tINFO trainable.py:379 -- Current state after restoring: {'_iteration': 12200, '_timesteps_total': None, '_time_total': 631871.9790458679, '_episodes_total': 146400}\n",
      "100%|██████████| 10/10 [01:12<00:00,  7.20s/it]\n"
     ]
    },
    {
     "data": {
      "text/plain": [
       "array([[<matplotlib.axes._subplots.AxesSubplot object at 0x7f65fecfec40>,\n",
       "        <matplotlib.axes._subplots.AxesSubplot object at 0x7f6638285130>]],\n",
       "      dtype=object)"
      ]
     },
     "execution_count": 3,
     "metadata": {},
     "output_type": "execute_result"
    },
    {
     "data": {
      "image/png": "[encoded data removed]",
      "text/plain": [
       "<Figure size 432x288 with 2 Axes>"
      ]
     },
     "metadata": {
      "needs_background": "light"
     },
     "output_type": "display_data"
    }
   ],
   "source": [
    "trainer = ppo.PPOTrainer(config={\n",
    "    **BASE_PPO_CONF,\n",
    "    \"num_workers\": 0,\n",
    "})\n",
    "\n",
    "ckpt_path = '/home/lorenzo/Desktop/master_thesis/ray_results/FREE/checkpoint_12200/checkpoint-12200'\n",
    "trainer.restore(str(ckpt_path))\n",
    "env = AIEEnv({}, force_dense_logging=True)\n",
    "\n",
    "df = pd.DataFrame()\n",
    "\n",
    "for i in tqdm(range(10)):\n",
    "    obs = env.reset()\n",
    "    for t in range(1000):\n",
    "        results = {\n",
    "            k: trainer.compute_action(\n",
    "                v,\n",
    "                policy_id='learned',\n",
    "                explore=False,\n",
    "            )\n",
    "            for k, v in obs.items()\n",
    "        }\n",
    "        obs, reward, done, info = env.step(results)\n",
    "    df = df.append(env.env.scenario_metrics(),ignore_index=True)\n",
    "\n",
    "df.hist(column=['social/equality','social/productivity'])"
   ]
  },
  {
   "cell_type": "code",
   "execution_count": 4,
   "metadata": {},
   "outputs": [
    {
     "name": "stderr",
     "output_type": "stream",
     "text": [
      "2021-11-11 16:52:56,612\tWARNING deprecation.py:33 -- DeprecationWarning: `framestack` has been deprecated. Use `num_framestacks (int)` instead. This will raise an error in the future!\n",
      "2021-11-11 16:53:00,710\tINFO trainable.py:371 -- Restored on 10.201.20.41 from checkpoint: /home/lorenzo/Desktop/master_thesis/ray_results/US/checkpoint_20020/checkpoint-20020\n",
      "2021-11-11 16:53:00,712\tINFO trainable.py:379 -- Current state after restoring: {'_iteration': 20020, '_timesteps_total': None, '_time_total': 656971.363036871, '_episodes_total': 240180}\n",
      "100%|██████████| 10/10 [01:17<00:00,  7.78s/it]\n"
     ]
    },
    {
     "data": {
      "text/plain": [
       "array([[<matplotlib.axes._subplots.AxesSubplot object at 0x7f663830f220>,\n",
       "        <matplotlib.axes._subplots.AxesSubplot object at 0x7f66386227c0>]],\n",
       "      dtype=object)"
      ]
     },
     "execution_count": 4,
     "metadata": {},
     "output_type": "execute_result"
    },
    {
     "data": {
      "image/png": "[encoded data removed]",
      "text/plain": [
       "<Figure size 432x288 with 2 Axes>"
      ]
     },
     "metadata": {
      "needs_background": "light"
     },
     "output_type": "display_data"
    }
   ],
   "source": [
    "trainer = ppo.PPOTrainer(config={\n",
    "    **BASE_PPO_CONF,\n",
    "    \"num_workers\": 0,\n",
    "})\n",
    "\n",
    "ckpt_path = '/home/lorenzo/Desktop/master_thesis/ray_results/US/checkpoint_20020/checkpoint-20020'\n",
    "trainer.restore(str(ckpt_path))\n",
    "env = AIEEnv(ENV_US, force_dense_logging=True)\n",
    "\n",
    "dfUs = pd.DataFrame()\n",
    "for i in tqdm(range(10)):\n",
    "    obs = env.reset()\n",
    "    for t in range(1000):\n",
    "        results = {\n",
    "            k: trainer.compute_action(\n",
    "                v,\n",
    "                policy_id='learned',\n",
    "                explore=False,\n",
    "            )\n",
    "            for k, v in obs.items()\n",
    "        }\n",
    "        obs, reward, done, info = env.step(results)\n",
    "    dfUs = dfUs.append(env.env.scenario_metrics(),ignore_index=True)\n",
    "    \n",
    "dfUs.hist(column=['social/equality','social/productivity'])"
   ]
  },
  {
   "cell_type": "code",
   "execution_count": 5,
   "metadata": {},
   "outputs": [
    {
     "name": "stderr",
     "output_type": "stream",
     "text": [
      "2021-11-11 16:54:20,980\tWARNING deprecation.py:33 -- DeprecationWarning: `framestack` has been deprecated. Use `num_framestacks (int)` instead. This will raise an error in the future!\n",
      "2021-11-11 16:54:24,444\tINFO trainable.py:371 -- Restored on 10.201.20.41 from checkpoint: /home/lorenzo/Desktop/master_thesis/ray_results/ITA/checkpoint_14626/checkpoint-14626\n",
      "2021-11-11 16:54:24,445\tINFO trainable.py:379 -- Current state after restoring: {'_iteration': 14626, '_timesteps_total': None, '_time_total': 1022582.4275901318, '_episodes_total': 175500}\n",
      "100%|██████████| 10/10 [01:06<00:00,  6.63s/it]\n"
     ]
    },
    {
     "data": {
      "text/plain": [
       "array([[<matplotlib.axes._subplots.AxesSubplot object at 0x7f65fedcb430>,\n",
       "        <matplotlib.axes._subplots.AxesSubplot object at 0x7f66387cc7c0>]],\n",
       "      dtype=object)"
      ]
     },
     "execution_count": 5,
     "metadata": {},
     "output_type": "execute_result"
    },
    {
     "data": {
      "image/png": "[encoded data removed]",
      "text/plain": [
       "<Figure size 432x288 with 2 Axes>"
      ]
     },
     "metadata": {
      "needs_background": "light"
     },
     "output_type": "display_data"
    }
   ],
   "source": [
    "trainer = ppo.PPOTrainer(config={\n",
    "    **BASE_PPO_CONF,\n",
    "    \"num_workers\": 0,\n",
    "})\n",
    "\n",
    "ckpt_path = '/home/lorenzo/Desktop/master_thesis/ray_results/ITA/checkpoint_14626/checkpoint-14626'\n",
    "trainer.restore(str(ckpt_path))\n",
    "env = AIEEnv(ENV_ITALY, force_dense_logging=True)\n",
    "\n",
    "dfIta = pd.DataFrame()\n",
    "for i in tqdm(range(10)):\n",
    "    obs = env.reset()\n",
    "    for t in range(1000):\n",
    "        results = {\n",
    "            k: trainer.compute_action(\n",
    "                v,\n",
    "                policy_id='learned',\n",
    "                explore=False,\n",
    "            )\n",
    "            for k, v in obs.items()\n",
    "        }\n",
    "        obs, reward, done, info = env.step(results)\n",
    "    dfIta = dfIta.append(env.env.scenario_metrics(),ignore_index=True)\n",
    "    \n",
    "dfIta.hist(column=['social/equality','social/productivity'])"
   ]
  },
  {
   "cell_type": "code",
   "execution_count": 16,
   "metadata": {},
   "outputs": [
    {
     "name": "stderr",
     "output_type": "stream",
     "text": [
      "2021-11-11 16:58:26,615\tWARNING deprecation.py:33 -- DeprecationWarning: `framestack` has been deprecated. Use `num_framestacks (int)` instead. This will raise an error in the future!\n",
      "2021-11-11 16:58:31,460\tINFO trainable.py:371 -- Restored on 10.201.20.41 from checkpoint: /home/lorenzo/Desktop/master_thesis/ray_results/COMM/checkpoint_10270/checkpoint-10270\n",
      "2021-11-11 16:58:31,462\tINFO trainable.py:379 -- Current state after restoring: {'_iteration': 10270, '_timesteps_total': None, '_time_total': 243507.28930974007, '_episodes_total': 123240}\n",
      "100%|██████████| 10/10 [01:12<00:00,  7.26s/it]\n"
     ]
    },
    {
     "data": {
      "text/plain": [
       "array([[<matplotlib.axes._subplots.AxesSubplot object at 0x7f6638187d30>,\n",
       "        <matplotlib.axes._subplots.AxesSubplot object at 0x7f65fe3e9160>]],\n",
       "      dtype=object)"
      ]
     },
     "execution_count": 16,
     "metadata": {},
     "output_type": "execute_result"
    },
    {
     "data": {
      "image/png": "[encoded data removed]",
      "text/plain": [
       "<Figure size 432x288 with 2 Axes>"
      ]
     },
     "metadata": {
      "needs_background": "light"
     },
     "output_type": "display_data"
    }
   ],
   "source": [
    "trainer = ppo.PPOTrainer(config={\n",
    "    **BASE_PPO_CONF,\n",
    "    \"num_workers\": 0,\n",
    "})\n",
    "\n",
    "ckpt_path = '/home/lorenzo/Desktop/master_thesis/ray_results/COMM/checkpoint_10270/checkpoint-10270'\n",
    "trainer.restore(str(ckpt_path))\n",
    "env = AIEEnv(ENV_COMMUNISM, force_dense_logging=True)\n",
    "\n",
    "dfComm = pd.DataFrame()\n",
    "for i in tqdm(range(10)):\n",
    "    obs = env.reset()\n",
    "    for t in range(1000):\n",
    "        results = {\n",
    "            k: trainer.compute_action(\n",
    "                v,\n",
    "                policy_id='learned',\n",
    "                explore=False,\n",
    "            )\n",
    "            for k, v in obs.items()\n",
    "        }\n",
    "        obs, reward, done, info = env.step(results)\n",
    "    dfComm = dfComm.append(env.env.scenario_metrics(),ignore_index=True)\n",
    "    \n",
    "dfComm.hist(column=['social/equality','social/productivity'])"
   ]
  },
  {
   "cell_type": "code",
   "execution_count": 17,
   "metadata": {},
   "outputs": [],
   "source": [
    "descr = dfComm.describe()"
   ]
  },
  {
   "cell_type": "code",
   "execution_count": 18,
   "metadata": {},
   "outputs": [
    {
     "data": {
      "text/html": [
       "<div>\n",
       "<style scoped>\n",
       "    .dataframe tbody tr th:only-of-type {\n",
       "        vertical-align: middle;\n",
       "    }\n",
       "\n",
       "    .dataframe tbody tr th {\n",
       "        vertical-align: top;\n",
       "    }\n",
       "\n",
       "    .dataframe thead th {\n",
       "        text-align: right;\n",
       "    }\n",
       "</style>\n",
       "<table border=\"1\" class=\"dataframe\">\n",
       "  <thead>\n",
       "    <tr style=\"text-align: right;\">\n",
       "      <th></th>\n",
       "      <th>social/equality</th>\n",
       "      <th>social/productivity</th>\n",
       "    </tr>\n",
       "  </thead>\n",
       "  <tbody>\n",
       "    <tr>\n",
       "      <th>count</th>\n",
       "      <td>10.0</td>\n",
       "      <td>10.000000</td>\n",
       "    </tr>\n",
       "    <tr>\n",
       "      <th>mean</th>\n",
       "      <td>1.0</td>\n",
       "      <td>713.076742</td>\n",
       "    </tr>\n",
       "    <tr>\n",
       "      <th>std</th>\n",
       "      <td>0.0</td>\n",
       "      <td>15.786504</td>\n",
       "    </tr>\n",
       "    <tr>\n",
       "      <th>min</th>\n",
       "      <td>1.0</td>\n",
       "      <td>679.896190</td>\n",
       "    </tr>\n",
       "    <tr>\n",
       "      <th>25%</th>\n",
       "      <td>1.0</td>\n",
       "      <td>704.391430</td>\n",
       "    </tr>\n",
       "    <tr>\n",
       "      <th>50%</th>\n",
       "      <td>1.0</td>\n",
       "      <td>718.618178</td>\n",
       "    </tr>\n",
       "    <tr>\n",
       "      <th>75%</th>\n",
       "      <td>1.0</td>\n",
       "      <td>724.395419</td>\n",
       "    </tr>\n",
       "    <tr>\n",
       "      <th>max</th>\n",
       "      <td>1.0</td>\n",
       "      <td>727.600680</td>\n",
       "    </tr>\n",
       "  </tbody>\n",
       "</table>\n",
       "</div>"
      ],
      "text/plain": [
       "       social/equality  social/productivity\n",
       "count             10.0            10.000000\n",
       "mean               1.0           713.076742\n",
       "std                0.0            15.786504\n",
       "min                1.0           679.896190\n",
       "25%                1.0           704.391430\n",
       "50%                1.0           718.618178\n",
       "75%                1.0           724.395419\n",
       "max                1.0           727.600680"
      ]
     },
     "execution_count": 18,
     "metadata": {},
     "output_type": "execute_result"
    }
   ],
   "source": [
    "descr[['social/equality','social/productivity']]\n"
   ]
  },
  {
   "cell_type": "code",
   "execution_count": 19,
   "metadata": {},
   "outputs": [
    {
     "data": {
      "text/plain": [
       "<matplotlib.collections.PathCollection at 0x7f65fe116d60>"
      ]
     },
     "execution_count": 19,
     "metadata": {},
     "output_type": "execute_result"
    },
    {
     "data": {
      "image/png": "[encoded data removed]",
      "text/plain": [
       "<Figure size 432x288 with 1 Axes>"
      ]
     },
     "metadata": {
      "needs_background": "light"
     },
     "output_type": "display_data"
    }
   ],
   "source": [
    "x = [2728.7162, 2449.2935, 1480.1034, 713.0767]\n",
    "y = [0.4379, 0.5801, 0.6503, 1]\n",
    "plt.scatter(x,y)"
   ]
  }
 ],
 "metadata": {
  "interpreter": {
   "hash": "916dbcbb3f70747c44a77c7bcd40155683ae19c65e1c03b4aa3499c5328201f1"
  },
  "kernelspec": {
   "display_name": "Python 3.8.10 64-bit",
   "language": "python",
   "name": "python3"
  },
  "language_info": {
   "codemirror_mode": {
    "name": "ipython",
    "version": 3
   },
   "file_extension": ".py",
   "mimetype": "text/x-python",
   "name": "python",
   "nbconvert_exporter": "python",
   "pygments_lexer": "ipython3",
   "version": "3.8.10"
  },
  "orig_nbformat": 4
 },
 "nbformat": 4,
 "nbformat_minor": 2
}
